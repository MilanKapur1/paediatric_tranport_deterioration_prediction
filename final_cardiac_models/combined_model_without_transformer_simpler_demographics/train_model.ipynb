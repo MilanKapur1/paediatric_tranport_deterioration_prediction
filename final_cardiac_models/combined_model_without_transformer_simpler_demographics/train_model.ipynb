{
 "cells": [
  {
   "cell_type": "code",
   "execution_count": null,
   "id": "3967c078",
   "metadata": {},
   "outputs": [],
   "source": [
    "!pip install torch transformers x-transformers betacal"
   ]
  },
  {
   "cell_type": "code",
   "execution_count": null,
   "id": "c7117ad4",
   "metadata": {},
   "outputs": [],
   "source": [
    "# # Basic imports\n",
    "import numpy as np  # For numerical computations and array manipulations\n",
    "import pandas as pd  # For loading and handling time-series and static data\n",
    "import sys\n",
    "import importlib\n",
    "import os\n",
    "import time\n",
    "from tqdm import tqdm\n",
    "# PyTorch imports\n",
    "import torch  # Core PyTorch library\n",
    "import torch.nn as nn  # Neural network layers and loss functions\n",
    "import torch.optim as optim  # Optimization algorithms\n",
    "from torch.utils.data import Dataset, DataLoader  # Datasets and DataLoaders for batching\n",
    "from torch.nn import Transformer, TransformerEncoderLayer  # Transformer modules\n",
    "\n",
    "# #Tranformers import\n",
    "from transformers import AutoTokenizer, AutoModel\n",
    "\n",
    "from sklearn.metrics import accuracy_score, precision_recall_curve, auc, roc_auc_score\n",
    "\n",
    "\n",
    "module_path = '/home/workspace/files/MilanK/Model1/final_models/code'\n",
    "# Add the module's directory to the system path if it's not already present\n",
    "if module_path not in sys.path:\n",
    "    sys.path.append(module_path)\n",
    "    \n",
    "    \n",
    "\n",
    "from generating_datasets_for_torch import *\n",
    "from load_static_data import *\n",
    "from PatientDataset import *\n",
    "from generate_labels_dataframe_with_dataloader import *\n",
    "from load_train_test_split import *\n",
    "from model import *\n",
    "from load_patient_list import *\n",
    "from forward_loop import *\n",
    "from fit import *\n",
    "from validate import *"
   ]
  },
  {
   "cell_type": "code",
   "execution_count": null,
   "id": "462106ae",
   "metadata": {},
   "outputs": [],
   "source": [
    "train,val,test = load_train_test_data(\n",
    "    train_filename = 'train_patient_list_orig.txt',                                   \n",
    "    val_filename = 'val_patient_list_orig.txt',\n",
    "    test_filename = 'test_patient_list.txt'\n",
    ")\n",
    "\n"
   ]
  },
  {
   "cell_type": "code",
   "execution_count": null,
   "id": "9ed806b4",
   "metadata": {},
   "outputs": [],
   "source": [
    "train_dataset = PatientDataset(patient_list = train, min_window_min=15, step_min=15,max_window_min=15,\n",
    "                             prediction_window_length=15)\n",
    "\n",
    "\n",
    "val_dataset = PatientDataset(patient_list = val, min_window_min=15, step_min=15,max_window_min=15,\n",
    "                             prediction_window_length=15)\n",
    "\n"
   ]
  },
  {
   "cell_type": "code",
   "execution_count": null,
   "id": "33e2ecfd",
   "metadata": {},
   "outputs": [],
   "source": [
    "batch_size = 128\n",
    "train_loader = DataLoader(\n",
    "    train_dataset,\n",
    "    batch_size=batch_size,\n",
    "    shuffle=True,\n",
    "    num_workers=0,             # Number of worker processes\n",
    "    #prefetch_factor=1,          # Number of batches to preload per worker\n",
    "    #persistent_workers=True      # Keep workers alive across epochs\n",
    ")\n",
    "\n",
    "val_loader = DataLoader(\n",
    "    val_dataset,\n",
    "    batch_size=batch_size,\n",
    "    shuffle=False,\n",
    "    num_workers=0,\n",
    "    #prefetch_factor=1,\n",
    "    #persistent_workers=True\n",
    ")\n"
   ]
  },
  {
   "cell_type": "code",
   "execution_count": null,
   "id": "2d95b96e",
   "metadata": {},
   "outputs": [],
   "source": [
    "batch_size = 128\n",
    "\n",
    "model = run_exp(experiment_name = 'combined_model_without_transformer_simpler_demographics',\n",
    "            train_loader = train_loader,\n",
    "            val_loader = val_loader, \n",
    "            dynamic_dim_in=18,\n",
    "            hidden_dim=1024,\n",
    "            max_seq_len=924,\n",
    "            batch_norm=False,\n",
    "            scalar_input_dim=40,    \n",
    "            scalar_mlp_hidden_dim=256,\n",
    "            embedding_hidden_dim=256,\n",
    "            ensemble_mlp_hidden_dim=512,\n",
    "            output_dim=1,\n",
    "            l1_lambda=0,\n",
    "            l2_lambda=0,\n",
    "            lr=3e-6,\n",
    "            pos_weight_value=20.0,\n",
    "            epochs = 10,\n",
    "            max_norm=10,\n",
    "            patience=10,\n",
    "            lr_patience=20,\n",
    "            device=\"cpu\",\n",
    "            target_outcome = 'cardiac')"
   ]
  }
 ],
 "metadata": {
  "kernelspec": {
   "display_name": "Python 3",
   "language": "python",
   "name": "python3"
  },
  "language_info": {
   "codemirror_mode": {
    "name": "ipython",
    "version": 3
   },
   "file_extension": ".py",
   "mimetype": "text/x-python",
   "name": "python",
   "nbconvert_exporter": "python",
   "pygments_lexer": "ipython3",
   "version": "3.11.6"
  }
 },
 "nbformat": 4,
 "nbformat_minor": 5
}
