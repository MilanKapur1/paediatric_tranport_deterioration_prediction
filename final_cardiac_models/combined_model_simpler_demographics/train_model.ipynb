{
 "cells": [
  {
   "cell_type": "code",
   "execution_count": 5,
   "id": "a512baeb",
   "metadata": {
    "scrolled": true
   },
   "outputs": [
    {
     "name": "stdout",
     "output_type": "stream",
     "text": [
      "Requirement already satisfied: torch in /opt/conda/lib/python3.11/site-packages (2.6.0)\n",
      "Requirement already satisfied: transformers in /opt/conda/lib/python3.11/site-packages (4.50.3)\n",
      "Requirement already satisfied: x-transformers in /opt/conda/lib/python3.11/site-packages (2.1.37)\n",
      "Requirement already satisfied: betacal in /opt/conda/lib/python3.11/site-packages (1.1.0)\n",
      "Collecting captum\n",
      "  Downloading captum-0.8.0-py3-none-any.whl.metadata (26 kB)\n",
      "Requirement already satisfied: filelock in /opt/conda/lib/python3.11/site-packages (from torch) (3.18.0)\n",
      "Requirement already satisfied: typing-extensions>=4.10.0 in /opt/conda/lib/python3.11/site-packages (from torch) (4.13.0)\n",
      "Requirement already satisfied: networkx in /opt/conda/lib/python3.11/site-packages (from torch) (3.2)\n",
      "Requirement already satisfied: jinja2 in /opt/conda/lib/python3.11/site-packages (from torch) (3.1.2)\n",
      "Requirement already satisfied: fsspec in /opt/conda/lib/python3.11/site-packages (from torch) (2023.9.2)\n",
      "Requirement already satisfied: nvidia-cuda-nvrtc-cu12==12.4.127 in /opt/conda/lib/python3.11/site-packages (from torch) (12.4.127)\n",
      "Requirement already satisfied: nvidia-cuda-runtime-cu12==12.4.127 in /opt/conda/lib/python3.11/site-packages (from torch) (12.4.127)\n",
      "Requirement already satisfied: nvidia-cuda-cupti-cu12==12.4.127 in /opt/conda/lib/python3.11/site-packages (from torch) (12.4.127)\n",
      "Requirement already satisfied: nvidia-cudnn-cu12==9.1.0.70 in /opt/conda/lib/python3.11/site-packages (from torch) (9.1.0.70)\n",
      "Requirement already satisfied: nvidia-cublas-cu12==12.4.5.8 in /opt/conda/lib/python3.11/site-packages (from torch) (12.4.5.8)\n",
      "Requirement already satisfied: nvidia-cufft-cu12==11.2.1.3 in /opt/conda/lib/python3.11/site-packages (from torch) (11.2.1.3)\n",
      "Requirement already satisfied: nvidia-curand-cu12==10.3.5.147 in /opt/conda/lib/python3.11/site-packages (from torch) (10.3.5.147)\n",
      "Requirement already satisfied: nvidia-cusolver-cu12==11.6.1.9 in /opt/conda/lib/python3.11/site-packages (from torch) (11.6.1.9)\n",
      "Requirement already satisfied: nvidia-cusparse-cu12==12.3.1.170 in /opt/conda/lib/python3.11/site-packages (from torch) (12.3.1.170)\n",
      "Requirement already satisfied: nvidia-cusparselt-cu12==0.6.2 in /opt/conda/lib/python3.11/site-packages (from torch) (0.6.2)\n",
      "Requirement already satisfied: nvidia-nccl-cu12==2.21.5 in /opt/conda/lib/python3.11/site-packages (from torch) (2.21.5)\n",
      "Requirement already satisfied: nvidia-nvtx-cu12==12.4.127 in /opt/conda/lib/python3.11/site-packages (from torch) (12.4.127)\n",
      "Requirement already satisfied: nvidia-nvjitlink-cu12==12.4.127 in /opt/conda/lib/python3.11/site-packages (from torch) (12.4.127)\n",
      "Requirement already satisfied: triton==3.2.0 in /opt/conda/lib/python3.11/site-packages (from torch) (3.2.0)\n",
      "Requirement already satisfied: sympy==1.13.1 in /opt/conda/lib/python3.11/site-packages (from torch) (1.13.1)\n",
      "Requirement already satisfied: mpmath<1.4,>=1.1.0 in /opt/conda/lib/python3.11/site-packages (from sympy==1.13.1->torch) (1.3.0)\n",
      "Requirement already satisfied: huggingface-hub<1.0,>=0.26.0 in /opt/conda/lib/python3.11/site-packages (from transformers) (0.30.1)\n",
      "Requirement already satisfied: numpy>=1.17 in /opt/conda/lib/python3.11/site-packages (from transformers) (1.24.4)\n",
      "Requirement already satisfied: packaging>=20.0 in /opt/conda/lib/python3.11/site-packages (from transformers) (23.2)\n",
      "Requirement already satisfied: pyyaml>=5.1 in /opt/conda/lib/python3.11/site-packages (from transformers) (6.0.1)\n",
      "Requirement already satisfied: regex!=2019.12.17 in /opt/conda/lib/python3.11/site-packages (from transformers) (2024.11.6)\n",
      "Requirement already satisfied: requests in /opt/conda/lib/python3.11/site-packages (from transformers) (2.31.0)\n",
      "Requirement already satisfied: tokenizers<0.22,>=0.21 in /opt/conda/lib/python3.11/site-packages (from transformers) (0.21.1)\n",
      "Requirement already satisfied: safetensors>=0.4.3 in /opt/conda/lib/python3.11/site-packages (from transformers) (0.5.3)\n",
      "Requirement already satisfied: tqdm>=4.27 in /opt/conda/lib/python3.11/site-packages (from transformers) (4.66.1)\n",
      "Requirement already satisfied: einops>=0.8.0 in /opt/conda/lib/python3.11/site-packages (from x-transformers) (0.8.1)\n",
      "Requirement already satisfied: einx>=0.3.0 in /opt/conda/lib/python3.11/site-packages (from x-transformers) (0.3.0)\n",
      "Requirement already satisfied: loguru in /opt/conda/lib/python3.11/site-packages (from x-transformers) (0.7.3)\n",
      "Requirement already satisfied: scikit-learn in /opt/conda/lib/python3.11/site-packages (from betacal) (1.3.1)\n",
      "Requirement already satisfied: matplotlib in /opt/conda/lib/python3.11/site-packages (from captum) (3.8.0)\n",
      "Requirement already satisfied: frozendict in /opt/conda/lib/python3.11/site-packages (from einx>=0.3.0->x-transformers) (2.4.6)\n",
      "Requirement already satisfied: MarkupSafe>=2.0 in /opt/conda/lib/python3.11/site-packages (from jinja2->torch) (2.1.3)\n",
      "Requirement already satisfied: contourpy>=1.0.1 in /opt/conda/lib/python3.11/site-packages (from matplotlib->captum) (1.1.1)\n",
      "Requirement already satisfied: cycler>=0.10 in /opt/conda/lib/python3.11/site-packages (from matplotlib->captum) (0.12.1)\n",
      "Requirement already satisfied: fonttools>=4.22.0 in /opt/conda/lib/python3.11/site-packages (from matplotlib->captum) (4.43.1)\n",
      "Requirement already satisfied: kiwisolver>=1.0.1 in /opt/conda/lib/python3.11/site-packages (from matplotlib->captum) (1.4.5)\n",
      "Requirement already satisfied: pillow>=6.2.0 in /opt/conda/lib/python3.11/site-packages (from matplotlib->captum) (11.1.0)\n",
      "Requirement already satisfied: pyparsing>=2.3.1 in /opt/conda/lib/python3.11/site-packages (from matplotlib->captum) (3.1.1)\n",
      "Requirement already satisfied: python-dateutil>=2.7 in /opt/conda/lib/python3.11/site-packages (from matplotlib->captum) (2.8.2)\n",
      "Requirement already satisfied: charset-normalizer<4,>=2 in /opt/conda/lib/python3.11/site-packages (from requests->transformers) (3.3.0)\n",
      "Requirement already satisfied: idna<4,>=2.5 in /opt/conda/lib/python3.11/site-packages (from requests->transformers) (3.4)\n",
      "Requirement already satisfied: urllib3<3,>=1.21.1 in /opt/conda/lib/python3.11/site-packages (from requests->transformers) (2.0.7)\n",
      "Requirement already satisfied: certifi>=2017.4.17 in /opt/conda/lib/python3.11/site-packages (from requests->transformers) (2025.1.31)\n",
      "Requirement already satisfied: scipy>=1.5.0 in /opt/conda/lib/python3.11/site-packages (from scikit-learn->betacal) (1.11.3)\n",
      "Requirement already satisfied: joblib>=1.1.1 in /opt/conda/lib/python3.11/site-packages (from scikit-learn->betacal) (1.3.2)\n",
      "Requirement already satisfied: threadpoolctl>=2.0.0 in /opt/conda/lib/python3.11/site-packages (from scikit-learn->betacal) (3.2.0)\n",
      "Requirement already satisfied: six>=1.5 in /opt/conda/lib/python3.11/site-packages (from python-dateutil>=2.7->matplotlib->captum) (1.16.0)\n",
      "Downloading captum-0.8.0-py3-none-any.whl (1.4 MB)\n",
      "\u001b[2K   \u001b[90m━━━━━━━━━━━━━━━━━━━━━━━━━━━━━━━━━━━━━━━━\u001b[0m \u001b[32m1.4/1.4 MB\u001b[0m \u001b[31m59.1 MB/s\u001b[0m eta \u001b[36m0:00:00\u001b[0m\n",
      "\u001b[?25hInstalling collected packages: captum\n",
      "Successfully installed captum-0.8.0\n"
     ]
    }
   ],
   "source": [
    "!pip install torch transformers x-transformers betacal captum"
   ]
  },
  {
   "cell_type": "code",
   "execution_count": 2,
   "id": "14c5e52e",
   "metadata": {},
   "outputs": [],
   "source": [
    "# # Basic imports\n",
    "import numpy as np  # For numerical computations and array manipulations\n",
    "import pandas as pd  # For loading and handling time-series and static data\n",
    "import sys\n",
    "import importlib\n",
    "import os\n",
    "import time\n",
    "from tqdm import tqdm\n",
    "# PyTorch imports\n",
    "import torch  # Core PyTorch library\n",
    "import torch.nn as nn  # Neural network layers and loss functions\n",
    "import torch.optim as optim  # Optimization algorithms\n",
    "from torch.utils.data import Dataset, DataLoader  # Datasets and DataLoaders for batching\n",
    "from torch.nn import Transformer, TransformerEncoderLayer  # Transformer modules\n",
    "import re\n",
    "# #Tranformers import\n",
    "from transformers import AutoTokenizer, AutoModel\n",
    "\n",
    "from sklearn.metrics import accuracy_score, precision_recall_curve, auc, roc_auc_score\n",
    "\n",
    "\n",
    "module_path = '/home/workspace/files/MilanK/Model1/final_models/code'\n",
    "# Add the module's directory to the system path if it's not already present\n",
    "if module_path not in sys.path:\n",
    "    sys.path.append(module_path)\n",
    "    \n",
    "    \n",
    "\n",
    "from generating_datasets_for_torch import *\n",
    "from load_static_data import *\n",
    "from PatientDataset import *\n",
    "from generate_labels_dataframe_with_dataloader import *\n",
    "from load_train_test_split import *\n",
    "from model import *\n",
    "from load_patient_list import *\n",
    "from forward_loop import *\n",
    "from fit import *\n",
    "from validate import *"
   ]
  },
  {
   "cell_type": "code",
   "execution_count": 3,
   "id": "1959ade7",
   "metadata": {},
   "outputs": [
    {
     "name": "stdout",
     "output_type": "stream",
     "text": [
      "Training Set - Total Patients: 1214\n",
      "Patients with Only Respiratory Deterioration: 7.50%\n",
      "Patients with Only Cardiac Deterioration: 13.01%\n",
      "Patients with Both Respiratory and Cardiac Deterioration: 5.93%\n",
      "Patients with No Deterioration: 73.56%\n",
      "\n",
      "Training Set - Total Windows: 8109\n",
      "Windows with Only Respiratory Deterioration: 2.48%\n",
      "Windows with Only Cardiac Deterioration: 4.06%\n",
      "Windows with Both Respiratory and Cardiac Deterioration: 0.57%\n",
      "Windows with No Deterioration: 92.90%\n",
      "\n",
      "Validation Set - Total Patients: 150\n",
      "Patients with Only Respiratory Deterioration: 4.67%\n",
      "Patients with Only Cardiac Deterioration: 16.67%\n",
      "Patients with Both Respiratory and Cardiac Deterioration: 6.00%\n",
      "Patients with No Deterioration: 72.67%\n",
      "\n",
      "Validation Set - Total Windows: 1022\n",
      "Windows with Only Respiratory Deterioration: 2.25%\n",
      "Windows with Only Cardiac Deterioration: 5.19%\n",
      "Windows with Both Respiratory and Cardiac Deterioration: 0.59%\n",
      "Windows with No Deterioration: 91.98%\n",
      "\n",
      "Testing Set - Total Patients: 155\n",
      "Patients with Only Respiratory Deterioration: 7.74%\n",
      "Patients with Only Cardiac Deterioration: 11.61%\n",
      "Patients with Both Respiratory and Cardiac Deterioration: 7.74%\n",
      "Patients with No Deterioration: 72.90%\n",
      "\n",
      "Testing Set - Total Windows: 1031\n",
      "Windows with Only Respiratory Deterioration: 3.10%\n",
      "Windows with Only Cardiac Deterioration: 4.36%\n",
      "Windows with Both Respiratory and Cardiac Deterioration: 0.87%\n",
      "Windows with No Deterioration: 91.66%\n",
      "\n"
     ]
    }
   ],
   "source": [
    "train,val,test = load_train_test_data(\n",
    "    train_filename = 'train_patient_list_orig.txt',                                   \n",
    "    val_filename = 'val_patient_list_orig.txt',\n",
    "    test_filename = 'test_patient_list.txt'\n",
    ")\n",
    "\n"
   ]
  },
  {
   "cell_type": "code",
   "execution_count": 6,
   "id": "413b72ff",
   "metadata": {},
   "outputs": [
    {
     "name": "stderr",
     "output_type": "stream",
     "text": [
      "Generating 15-min samples: 100%|██████████| 1214/1214 [01:07<00:00, 17.87it/s]\n"
     ]
    },
    {
     "name": "stdout",
     "output_type": "stream",
     "text": [
      "Number of windows without minority oversampling: 8109\n"
     ]
    },
    {
     "name": "stderr",
     "output_type": "stream",
     "text": [
      "Generating 15-min samples: 100%|██████████| 150/150 [00:08<00:00, 18.07it/s]\n"
     ]
    },
    {
     "name": "stdout",
     "output_type": "stream",
     "text": [
      "Number of windows without minority oversampling: 1022\n"
     ]
    }
   ],
   "source": [
    "train_dataset = PatientDataset(patient_list = train, min_window_min=15, step_min=15,max_window_min=15,\n",
    "                             prediction_window_length=15)\n",
    "\n",
    "\n",
    "val_dataset = PatientDataset(patient_list = val, min_window_min=15, step_min=15,max_window_min=15,\n",
    "                             prediction_window_length=15)\n"
   ]
  },
  {
   "cell_type": "code",
   "execution_count": null,
   "id": "178890de",
   "metadata": {},
   "outputs": [
    {
     "name": "stderr",
     "output_type": "stream",
     "text": [
      "Generating 15-min samples: 100%|██████████| 155/155 [00:06<00:00, 22.45it/s]\n"
     ]
    },
    {
     "name": "stdout",
     "output_type": "stream",
     "text": [
      "Number of windows without minority oversampling: 1031\n"
     ]
    }
   ],
   "source": [
    "batch_size = 128\n",
    "train_loader = DataLoader(\n",
    "    train_dataset,\n",
    "    batch_size=batch_size,\n",
    "    shuffle=True,\n",
    "    num_workers=0,             # Number of worker processes\n",
    "    #prefetch_factor=1,          # Number of batches to preload per worker\n",
    "    #persistent_workers=True      # Keep workers alive across epochs\n",
    ")\n",
    "\n",
    "val_loader = DataLoader(\n",
    "    val_dataset,\n",
    "    batch_size=batch_size,\n",
    "    shuffle=False,\n",
    "    num_workers=0,\n",
    "    #prefetch_factor=1,\n",
    "    #persistent_workers=True\n",
    ")\n",
    "\n",
    "\n"
   ]
  },
  {
   "cell_type": "code",
   "execution_count": null,
   "id": "48b28931",
   "metadata": {
    "scrolled": true
   },
   "outputs": [
    {
     "name": "stdout",
     "output_type": "stream",
     "text": [
      "Epoch 1/5\n",
      "Epoch completed in 441.88s, Average Training Loss: 1.2449\n",
      "Validation AUC-PR for resp: 0.1355\n",
      "Validation AUROC for resp: 0.7732\n",
      "Validation Loss: 1.1717\n",
      "Validation AUPRC: 0.1355, Validation AUROC: 0.7732\n",
      "Model weights saved for epoch 1\n",
      "Epoch 1/5, Current Learning Rate: 0.000030\n",
      "Epoch 2/5\n"
     ]
    },
    {
     "name": "stderr",
     "output_type": "stream",
     "text": [
      "/home/workspace/files/MilanK/Model1/final_models/code/fit.py:77: FutureWarning: The behavior of DataFrame concatenation with empty or all-NA entries is deprecated. In a future version, this will no longer exclude empty or all-NA columns when determining the result dtypes. To retain the old behavior, exclude the relevant entries before the concat operation.\n",
      "  metric_df = pd.concat([metric_df, epoch_df], ignore_index=True)\n"
     ]
    },
    {
     "name": "stdout",
     "output_type": "stream",
     "text": [
      "Epoch completed in 262.34s, Average Training Loss: 1.1258\n",
      "Validation AUC-PR for resp: 0.1467\n",
      "Validation AUROC for resp: 0.7879\n",
      "Validation Loss: 1.0555\n",
      "Validation AUPRC: 0.1467, Validation AUROC: 0.7879\n",
      "Model weights saved for epoch 2\n",
      "Epoch 2/5, Current Learning Rate: 0.000030\n",
      "Epoch 3/5\n",
      "Epoch completed in 262.33s, Average Training Loss: 1.0392\n",
      "Validation AUC-PR for resp: 0.1654\n",
      "Validation AUROC for resp: 0.7902\n",
      "Validation Loss: 1.0109\n",
      "Validation AUPRC: 0.1654, Validation AUROC: 0.7902\n",
      "Model weights saved for epoch 3\n",
      "Epoch 3/5, Current Learning Rate: 0.000030\n",
      "Epoch 4/5\n",
      "Epoch completed in 263.18s, Average Training Loss: 0.9926\n",
      "Validation AUC-PR for resp: 0.1721\n",
      "Validation AUROC for resp: 0.7908\n",
      "Validation Loss: 0.9990\n",
      "Validation AUPRC: 0.1721, Validation AUROC: 0.7908\n",
      "Model weights saved for epoch 4\n",
      "Epoch 4/5, Current Learning Rate: 0.000030\n",
      "Epoch 5/5\n",
      "Epoch completed in 260.75s, Average Training Loss: 0.9734\n",
      "Validation AUC-PR for resp: 0.1693\n",
      "Validation AUROC for resp: 0.7916\n",
      "Validation Loss: 0.9938\n",
      "Validation AUPRC: 0.1693, Validation AUROC: 0.7916\n",
      "Model weights saved for epoch 5\n",
      "Epoch 5/5, Current Learning Rate: 0.000030\n",
      "Metrics saved to /home/workspace/files/MilanK/Model1/final_models/final_cardiac_models/combined_model_simpler_demographics/combined_model_simpler_demographics.csv\n"
     ]
    }
   ],
   "source": [
    "\n",
    "\n",
    "model = run_exp(experiment_name = 'combined_model_simpler_demographics',\n",
    "            train_loader = train_loader,\n",
    "            val_loader = val_loader,\n",
    "            depth=4,\n",
    "            heads=2,\n",
    "            dynamic_dim_in=18,\n",
    "            dynamic_dim_out=128,\n",
    "            max_seq_len=924,\n",
    "            attn_dropout=0,\n",
    "            ff_dropout=0,\n",
    "            batch_norm=False,\n",
    "            scalar_input_dim=40,\n",
    "            scalar_mlp_hidden_dim=128,\n",
    "            embedding_hidden_dim=128,\n",
    "            ensemble_mlp_hidden_dim=512,\n",
    "            output_dim=1,\n",
    "            l1_lambda=0,\n",
    "            l2_lambda=0,\n",
    "            lr=3e-5,\n",
    "            pos_weight_value=20.0,\n",
    "            epochs = 5,\n",
    "            max_norm=10,\n",
    "            patience=10,\n",
    "            lr_patience=5,\n",
    "            device=\"cpu\",\n",
    "            target_outcome = 'cardiac')"
   ]
  }
 ],
 "metadata": {
  "kernelspec": {
   "display_name": "Python 3",
   "language": "python",
   "name": "python3"
  },
  "language_info": {
   "codemirror_mode": {
    "name": "ipython",
    "version": 3
   },
   "file_extension": ".py",
   "mimetype": "text/x-python",
   "name": "python",
   "nbconvert_exporter": "python",
   "pygments_lexer": "ipython3",
   "version": "3.11.6"
  }
 },
 "nbformat": 4,
 "nbformat_minor": 5
}
