{
 "cells": [
  {
   "cell_type": "code",
   "execution_count": null,
   "id": "a26f0961",
   "metadata": {},
   "outputs": [],
   "source": [
    "!pip install torch transformers x-transformers betacal"
   ]
  },
  {
   "cell_type": "code",
   "execution_count": null,
   "id": "5416ad4e",
   "metadata": {},
   "outputs": [],
   "source": [
    "# # Basic imports\n",
    "import numpy as np  # For numerical computations and array manipulations\n",
    "import pandas as pd  # For loading and handling time-series and static data\n",
    "import sys\n",
    "import importlib\n",
    "import os\n",
    "import time\n",
    "from tqdm import tqdm\n",
    "# PyTorch imports\n",
    "import torch  # Core PyTorch library\n",
    "import torch.nn as nn  # Neural network layers and loss functions\n",
    "import torch.optim as optim  # Optimization algorithms\n",
    "from torch.utils.data import Dataset, DataLoader  # Datasets and DataLoaders for batching\n",
    "from torch.nn import Transformer, TransformerEncoderLayer  # Transformer modules\n",
    "\n",
    "# #Tranformers import\n",
    "from transformers import AutoTokenizer, AutoModel\n",
    "\n",
    "from sklearn.metrics import accuracy_score, precision_recall_curve, auc, roc_auc_score\n",
    "\n",
    "\n",
    "module_path = '/home/workspace/files/MilanK/Model1/final_models/code'\n",
    "# Add the module's directory to the system path if it's not already present\n",
    "if module_path not in sys.path:\n",
    "    sys.path.append(module_path)\n",
    "    \n",
    "    \n",
    "\n",
    "from generating_datasets_for_torch import *\n",
    "from load_static_data import *\n",
    "from PatientDataset import *\n",
    "from generate_labels_dataframe_with_dataloader import *\n",
    "from load_train_test_split import *\n",
    "from model import *\n",
    "from load_patient_list import *\n",
    "from forward_loop import *\n",
    "from fit import *\n",
    "from validate import *"
   ]
  },
  {
   "cell_type": "code",
   "execution_count": null,
   "id": "27912572",
   "metadata": {},
   "outputs": [],
   "source": [
    "train,val,test = load_train_test_data(\n",
    "    train_filename = 'train_patient_list_orig.txt',                                   \n",
    "    val_filename = 'val_patient_list_orig.txt',\n",
    "    test_filename = 'test_patient_list.txt'\n",
    ")\n",
    "\n"
   ]
  },
  {
   "cell_type": "code",
   "execution_count": null,
   "id": "fcd16a6f",
   "metadata": {},
   "outputs": [],
   "source": [
    "train_dataset = PatientDataset(patient_list = train, min_window_min=15, step_min=15,max_window_min=15,\n",
    "                             prediction_window_length=15)\n",
    "\n",
    "\n",
    "val_dataset = PatientDataset(patient_list = val, min_window_min=15, step_min=15,max_window_min=15,\n",
    "                             prediction_window_length=15)\n",
    "\n"
   ]
  },
  {
   "cell_type": "code",
   "execution_count": null,
   "id": "1af21833",
   "metadata": {},
   "outputs": [],
   "source": [
    "batch_size = 64\n",
    "train_loader = DataLoader(\n",
    "    train_dataset,\n",
    "    batch_size=batch_size,\n",
    "    shuffle=True,\n",
    "    num_workers=0,             # Number of worker processes\n",
    "    #prefetch_factor=1,          # Number of batches to preload per worker\n",
    "    #persistent_workers=True      # Keep workers alive across epochs\n",
    ")\n",
    "\n",
    "val_loader = DataLoader(\n",
    "    val_dataset,\n",
    "    batch_size=batch_size,\n",
    "    shuffle=False,\n",
    "    num_workers=0,\n",
    "    #prefetch_factor=1,\n",
    "    #persistent_workers=True\n",
    ")\n"
   ]
  },
  {
   "cell_type": "code",
   "execution_count": null,
   "id": "0dd4335c",
   "metadata": {
    "scrolled": true
   },
   "outputs": [],
   "source": [
    "model = run_exp(train_loader,val_loader)"
   ]
  }
 ],
 "metadata": {
  "kernelspec": {
   "display_name": "Python 3",
   "language": "python",
   "name": "python3"
  },
  "language_info": {
   "codemirror_mode": {
    "name": "ipython",
    "version": 3
   },
   "file_extension": ".py",
   "mimetype": "text/x-python",
   "name": "python",
   "nbconvert_exporter": "python",
   "pygments_lexer": "ipython3",
   "version": "3.11.6"
  }
 },
 "nbformat": 4,
 "nbformat_minor": 5
}
